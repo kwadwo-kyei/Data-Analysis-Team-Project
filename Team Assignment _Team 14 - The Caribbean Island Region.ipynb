{
 "cells": [
  {
   "cell_type": "markdown",
   "metadata": {},
   "source": [
    "# Introduction"
   ]
  },
  {
   "cell_type": "markdown",
   "metadata": {
    "cell_style": "split"
   },
   "source": [
    "The Caribbean Island is a region located between East of Central America, North and South America, composed of 700 islands, the Caribbean Sea, and the contiguous coast. There are 37 countries and 30 territories in this region. \n",
    "\n",
    "The Caribbean Island and part of the Latin America is a tropical region, which divided into tropical rain-forest climate, tropical monsoon, and tropical savanna. The region has highly diverted ecosystems e.g. there are 90,000 kinds of fungi existing in the Caribbean Island. Furthermore, the nourishment of the rainy season and the blessed natural conditions make the island countries have outstanding natural scenery, making tourism as the largest industry in the region. \n",
    "\n",
    "According to Caribbean Journal, the region really depends on the tourism industry. It distributes 30 - 47% of the region GDP/GNI. Exporting corps commodities e.g. sugarcane, fruits, vegetables are also contributed a lot for the region's economy. However, the region doesn't have a strong economy strategy. The Caribbean Island lacks of added value and also affected a lot of natural disaster without prompt solution which led to the weaken economic development.\n",
    "\n",
    "In recent decades, climate change will significantly affects the Caribbean Island region. According to CEPF, the growth of population and economy activity leading to extensive environmental problems. The region ironically boost the tourism industry without thinking the impact of air and water pollution.\n"
   ]
  },
  {
   "cell_type": "markdown",
   "metadata": {
    "cell_style": "split"
   },
   "source": [
    "<div style = \"width:image width px; font-size:80%; text-align:center;\"><img src=\"./CaribbeanSea-FullSize.jpg\" width=\"400\" height=\"400\" style=\"padding-bottom:0.5em;\"> <em>Figure 1: Caribbean Island </em></div>"
   ]
  },
  {
   "cell_type": "markdown",
   "metadata": {
    "cell_style": "split"
   },
   "source": [
    "<div style = \"width:image width px; font-size:80%; text-align:center;\"><img src=\"./Antigua.jpg\" width=\"400\" height=\"400\" style=\"padding-bottom:0.5em;\"> <em>Figure 2: Antigua </em></div>"
   ]
  },
  {
   "cell_type": "markdown",
   "metadata": {},
   "source": [
    "# 5 Features of The Caribbean Island (in the dataset)"
   ]
  },
  {
   "cell_type": "markdown",
   "metadata": {},
   "source": [
    "The Caribbean Island is very unique because of its location and territories. It consists of countries spread in little islands. The countries' economies depend heavily in tourism sector and natural resources, which led into environmental problems.\n",
    "\n",
    "Referencing from our research, we want to do in-depth analysis with these 5 variables:\n",
    "1. **Population.**\n",
    "   According to CEPF, the population and economy in the Caribbean Island countries have grown significantly in        the last 50 years, however the development grew without adequate planning. The governments are too focus to        have a lot of construction going, without looking at the environmental effects.\n",
    "2. **GNI.**\n",
    "   According to Investopedia, Gross National Income is an alternative to Gross Domestic Product (GDP) to measure      and track a nation's wealth. Ideally, the more populated a country, the higher GNI the country has. The Caribbean Island region is heavily depend on tourism industry. If the industry going pretty well, the GDP will develope pretty good as well.\n",
    "3. **CO2 Emission.**\n",
    "   Based on the external research, air and water pollution in the Caribbean Island have been happening pretty        heavily due to extensive constructions for tourism activities.\n",
    "4. **Improved Water Resource.**\n",
    "   Not only air pollution, the extensive construction in the region has impacted the ocean ecosystem and clean        water resource.\n",
    "5. **Improved Sanitation Facilities.**\n",
    "   The polluted air and water affect the availability of sanitation facilities, which should be an important          features for the region to develop its tourism industry.\n",
    "\n"
   ]
  },
  {
   "cell_type": "markdown",
   "metadata": {},
   "source": [
    "# Strategy for Missing Values and Outliers"
   ]
  },
  {
   "cell_type": "markdown",
   "metadata": {
    "cell_style": "split"
   },
   "source": [
    "## GNI Per Capita (US$)\n",
    "\n",
    "\n",
    "We were imputting missing value for GNI per capita with the external data, because dropping value and filling value with median or mean value cannot reflects the GNI region. **There are 4 different income groups** in the region, which are Low Income, Lower Middle Income, Upper Middle Income, and High Income group.\n",
    "\n",
    "\n",
    "We filled these indexes:\n",
    "  * Index 0: Aruba, using 2010 data which is the latest population cencus\n",
    "  * Index 46: Cayman Islands, using 2016 data which is the latest trade data\n",
    "  * Index 186: Turks and Caicos Islands, using 2014 data which is the closest data to 2012 population cencus\n",
    "  * For British Virgin Island and Virgin Island, external data can't be found\n",
    "\n",
    "According to our research, British Virgin Island and Virgin Island are high income countries\n",
    "Thus, we used fillna with mean value for these 2 missing values.\n",
    "**(Look further in 6.3.1)**\n",
    "\n",
    "There is an outlier which belongs to **Cayman Islands (US$ 45,730) with the population of 52,926**. According to Investopedia, the country is known as one of the world's top tax havens. The country has attracted many wealthy people to do their business in the region. It is very popular to make hedge funds.\n",
    "**(Look further in 6.3.2)**"
   ]
  },
  {
   "cell_type": "markdown",
   "metadata": {
    "cell_style": "split"
   },
   "source": [
    "## CO2 Emissions\n",
    "\n",
    "\n",
    "We were testing the mean/median imputation strategy to see the best fit strategy to fill the missing values.\n",
    "\n",
    "On the histogram, the distribution shows a skewed positive (i.e. skewed to the right). Thus, median value is better to represent the center of this distribution. Therefore, **median value is used to fill in the missing values.**\n",
    "\n",
    "There are 2 missing values, which specifically in Puerto Rico and Virgin Island.\n",
    "**(Look further in 6.3.3)**\n",
    "\n",
    "There are 2 outliers that belong to **Aruba (26 metric tons per capita) and Trinidan & Tobago (33 metric tons per capita).**\n",
    "\n",
    "According to Worldometer, **Aruba is involved heavily in the petroleum industry**, specifically has petroleum transhipment facilities (ranks 163rd in the world for oil consumption). **The country uses 97,103,871 barrels per day, which is a lot for a small island country.**\n",
    "\n",
    "Just like Aruba, according to WorldAtlas, **Trinidan and Tobago is also actively involved in the production of petroleum** products, liquefied natural gas (LNG), methanol, ammonia, and minerals.\n",
    "\n",
    "**These 2 countries are actively involved in mining industry whereas other countries in the region depends heavily on its tourism industry.**\n",
    "**(Look further in 6.3.4)**\n",
    "\n",
    "\n"
   ]
  },
  {
   "cell_type": "markdown",
   "metadata": {},
   "source": [
    "   "
   ]
  },
  {
   "cell_type": "markdown",
   "metadata": {
    "cell_style": "split"
   },
   "source": [
    "## Improved Water Source\n",
    "\n",
    "\n",
    "**There are 4 missing value for variable Improved Water Source.** Our approach was by filling it with external data we've found. The reason was since most of the countries are between the range of 80 - 90%, however there is only 1 country that has under 60%, it would not make sense to imputting with mean or median value. Thus, **we proceed to impute data from an external source since the numbers we were more realistics to the region average.**\n",
    "\n",
    "We filled these indexes: **(Look further in 6.3.5)**\n",
    "* Index 51: Dominica\n",
    "* Index 156: Puerto Rico\n",
    "* Index 186: Turks and Caicos Islands\n",
    "(all the sources are from www.cia.gov (2015)\n",
    "* For British Virgin Islands, external data can't be found\n",
    "  \n",
    "\n",
    "There are 2 outliers that belongs to **Haiti (59% of Population Access) and The Dominican Republic (86,2% of Population Access).** According to WorldVision, **Haiti and Dominican Republic are experiencing a lack of infrastructure, which provokes water scarcity being one is the main environmental challenges.**\n",
    "In effect, by 2010, Haiti experienced one of the worst earthquakes in the Caribbean, which destroyed more than 50% of its infrastructure, including the majority of their aqueduct.\n",
    "Since the Dominican Republic is a nearby country, it had provided some support, provoking less availability of water sources for both countries.\n",
    "**(Look further in 6.3.8)**"
   ]
  },
  {
   "cell_type": "markdown",
   "metadata": {
    "cell_style": "split"
   },
   "source": [
    "## Improved Sanitation Facilities\n",
    "\n",
    "**There are 4 missing value for variable Improved Sanitation Facilities.** Our approach is almost the same with variable Improved Water Source, because there is a huge range in the dataset. Thus, we proceed to impute data from an external source.\n",
    "\n",
    "We filld these indexes: **(Look further in 6.3.7)**\n",
    "\n",
    "* Index 51: Dominica\n",
    "* Index 103: St. Kitts and Nevis\n",
    "* Index 186: Turks and Caicos Islands\n",
    "* Index 204: St. Vincent and the Grenadines\n",
    "* All sources are from WorldBank from 2011 - 2017\n",
    "\n",
    "\n",
    "There is an outlier that belongs to **Haiti (25,1% of Population Access). According to Borgen Project, there is only 24% of Haiti's population has access to a toilet**, which validate the dataset with the real number. Haiti also has natural disaster e.g. earthquake and a pretty bad poverties. **The data also supported by the population variable, as Haiti is one of the populous country in the region with the lowest GNI overall. The data indicating that Haiti not sufficient enough to develop its sanitation infrastructure**. At the same time, the large population has created many difficulties for practicing a good personal hygiene condition.\n",
    "\n",
    "**(Look Further in 6.3.8)**"
   ]
  },
  {
   "cell_type": "markdown",
   "metadata": {},
   "source": [
    "   "
   ]
  },
  {
   "cell_type": "markdown",
   "metadata": {},
   "source": [
    "# Correlation Between the Variables"
   ]
  },
  {
   "cell_type": "markdown",
   "metadata": {
    "cell_style": "split"
   },
   "source": [
    "Analyzing the correlation between our five chosen variables, we were able to find which variables are strongly correlated and vice-versa.\n",
    "\n",
    "1. **The population variable has a stronger          correlation with CO2 emission** than with the      other variables, which is understandable        because **the more people there are; The more      pollution would be created due to human          activity**. However, the **number of population      in the region doesn't really reflect the        improved water source available**.\n",
    "\n",
    "2. GNI per capita has the strongest correlation    with improved sanitation facilities, which      means **when a country's income rises, so does    the expenditure to enhanced sanitation          facilities** available to the population and      vice versa. \n",
    "\n",
    "3. A strong correlation between CO2 emissions      and GNI means **the more wealth a country,      the more economic activities that affected      the environmental, which increase             pollution**.\n",
    "\n",
    "4. A strong correlation between 'improved water    source' and 'improved sanitation facilities'    means as **the water source of a country      become more available widely, the more people will have access to sanitation facilities.** \n",
    "\n",
    "Conclusion:\n",
    "A large number of population in the region doesn't always reflect a big amount of GNI per capita, however it is very likely a country to have high pollution condition which might an impact of economy activities. The proportion of population also needs to be seen from the industry activities from each country e.g. country that has a large mining industry will impact more.\n",
    "Moreover, the wealthiest the country, the more likely a country to improve its water availability and sanitation facilities because it has more budget to spend."
   ]
  },
  {
   "cell_type": "markdown",
   "metadata": {
    "cell_style": "split"
   },
   "source": [
    "<div style = \"width:image width px; font-size:80%; text-align:center;\"><img src=\"./Linear Correlation Heatmap.png\" width=\"1000\" height=\"1000\" style=\"padding-bottom:0.5em;\"> <em>Figure 3: Correlation Heatmap </em></div>"
   ]
  },
  {
   "cell_type": "markdown",
   "metadata": {},
   "source": [
    "   "
   ]
  },
  {
   "cell_type": "markdown",
   "metadata": {},
   "source": [
    "# PUERTO RICO represents The Caribbean Island"
   ]
  },
  {
   "cell_type": "markdown",
   "metadata": {
    "cell_style": "split"
   },
   "source": [
    "Method:\n",
    "Looking at the averages of our chosen variables in the region and conditionally subsetted the country by its averages from the region. **(Look further in 6.5)**\n",
    "\n",
    "The result was Puerto Rico as the best possible country to represent The Caribbean Island, which has more than 2.108.296 and GNI per capita; 13.808,24 (region averages).\n",
    "\n",
    "Business Insider considers Puerto Rico as one of the best tourist location to visit in the Caribbean and Latin American.\n",
    "\n",
    "Puerto Rico belongs to the US, the country has more financial and non-financial resources. For example, the country can respond to natural disasters much faster than Haiti, which experienced an earthquake longer ago than Puerto Rico and still facing significant infrastructure challenges. \n",
    "\n",
    "It also has more robust water source which affects its well sanitation facility availability. Additionally, WelcomeToPuertorico stated that it is the second most profound water depression globally, which allows it to take more advantage of its 15 water reservoirs. \n",
    "\n",
    "Therefore, we noticed that their CO2 footprint is slightly low compared to other countries in the region because Puerto Rico focuses on tourism industry and using more petroleum since it generates less danger for the environment, which is better.\n"
   ]
  },
  {
   "cell_type": "markdown",
   "metadata": {
    "cell_style": "split"
   },
   "source": [
    "<div style = \"width:image width px; font-size:80%; text-align:center;\"><img src=\"./Puerto Rico flag.jpg\" width=\"300\" height=\"300\" style=\"padding-bottom:0.5em;\"> <em>Figure 4: Puerto Rico Flag </em></div>"
   ]
  },
  {
   "cell_type": "markdown",
   "metadata": {
    "cell_style": "split"
   },
   "source": [
    "<div style = \"width:image width px; font-size:80%; text-align:center;\"><img src=\"./Puerto Rico.jpg\" width=\"300\" height=\"300\" style=\"padding-bottom:0.5em;\"> <em>Figure 5: Puerto Rico </em></div>"
   ]
  },
  {
   "cell_type": "markdown",
   "metadata": {},
   "source": [
    "# Dataset Analysis using Python Code"
   ]
  },
  {
   "cell_type": "markdown",
   "metadata": {},
   "source": [
    "## Filtering and Cleaning Data"
   ]
  },
  {
   "cell_type": "markdown",
   "metadata": {},
   "source": [
    "### Importing packages and file"
   ]
  },
  {
   "cell_type": "code",
   "execution_count": null,
   "metadata": {},
   "outputs": [],
   "source": [
    "# importing important packages to use\n",
    "\n",
    "import pandas as pd                 # data science essentials\n",
    "import numpy as np                  # multi-dimensional arrays and matrics\n",
    "import matplotlib.pyplot as plt     # data visualization essentials\n",
    "import seaborn as sns               # creating more data visualization"
   ]
  },
  {
   "cell_type": "code",
   "execution_count": null,
   "metadata": {},
   "outputs": [],
   "source": [
    "# importing the dataset to analyze\n",
    "\n",
    "# The location of the data\n",
    "file = \"./Final_Project_Dataset.xlsx\"\n",
    "\n",
    "worldbank_data = pd.read_excel(io         = file,   # file to be read in\n",
    "                               sheet_name = 'Data', # sheet name in excel\n",
    "                               header     = 0)      # row number with features labels\n",
    "\n",
    "\n",
    "# saving the dataset as worldbank data\n",
    "worldbank_data"
   ]
  },
  {
   "cell_type": "markdown",
   "metadata": {},
   "source": [
    "### Selecting the Caribbean Island region"
   ]
  },
  {
   "cell_type": "code",
   "execution_count": null,
   "metadata": {},
   "outputs": [],
   "source": [
    "# filtering the specific region from the worldwide dataset\n",
    "# making copy of the dataset\n",
    "\n",
    "region = worldbank_data.loc[ : , : ]\\\n",
    "        [worldbank_data.loc[ : , 'Cool Name'] == \"Ratchet\"].copy()\n",
    "region"
   ]
  },
  {
   "cell_type": "code",
   "execution_count": null,
   "metadata": {},
   "outputs": [],
   "source": [
    "region.info()"
   ]
  },
  {
   "cell_type": "markdown",
   "metadata": {},
   "source": [
    "### Selecting The Top 5 \"Features\" for the Caribbean Island Region"
   ]
  },
  {
   "cell_type": "code",
   "execution_count": null,
   "metadata": {},
   "outputs": [],
   "source": [
    "# Selecting 5 top variables that best exemplify the region\n",
    "\n",
    "region5 = region.iloc[ : , [1, 33, 20, 9, 23, 22]].copy()\n",
    "\n",
    "region5.info()"
   ]
  },
  {
   "cell_type": "code",
   "execution_count": null,
   "metadata": {},
   "outputs": [],
   "source": [
    "# Changing the name of the variables\n",
    "\n",
    "caribbean_island = region5.rename\\\n",
    "        (columns = \n",
    "        { \"Country Name\"                                                 : \"Country\",\n",
    "          \"Population, total\"                                            : \"Population\",\n",
    "          \"GNI per capita, Atlas method (current US$)\"                   : \"GNI per capita (US$)\",\n",
    "          \"CO2 emissions (metric tons per capita)\"                       : \"CO2 Emissions\",\n",
    "          \"Improved water source (% of population with access)\"          : \"Improved Water Source\",\n",
    "          \"Improved sanitation facilities (% of population with access)\" : \"Improved Sanitation Facilities\"})\n",
    "\n",
    "\n",
    "# checking the new clean dataset for the Caribbean Island region\n",
    "caribbean_island"
   ]
  },
  {
   "cell_type": "markdown",
   "metadata": {},
   "source": [
    "## Looking for the Missing Values in the Region Dataset"
   ]
  },
  {
   "cell_type": "code",
   "execution_count": null,
   "metadata": {},
   "outputs": [],
   "source": [
    "caribbean_island.isnull().any(axis = 0)"
   ]
  },
  {
   "cell_type": "code",
   "execution_count": null,
   "metadata": {},
   "outputs": [],
   "source": [
    "# Looking for the missing value\n",
    "\n",
    "caribbean_island.isnull().sum()"
   ]
  },
  {
   "cell_type": "code",
   "execution_count": null,
   "metadata": {},
   "outputs": [],
   "source": [
    "# Analyzing the percentage of the missing value\n",
    "\n",
    "caribbean_island.isnull().mean(axis = 0)\n",
    "\n",
    "# everything is below 3% - 5%"
   ]
  },
  {
   "cell_type": "code",
   "execution_count": null,
   "metadata": {},
   "outputs": [],
   "source": [
    "# creating missing value flags\n",
    "\n",
    "caribbean_island['m_GNI per capita (US$)']           = caribbean_island['GNI per capita (US$)'].isnull().astype(float)\n",
    "caribbean_island['m_CO2 Emissions']                  = caribbean_island['CO2 Emissions'].isnull().astype(float)\n",
    "caribbean_island['m_Improved Water Source']          = caribbean_island['Improved Water Source'].isnull().astype(float)\n",
    "caribbean_island['m_Improved Sanitation Facilities'] = caribbean_island['Improved Sanitation Facilities'].isnull().astype(float)"
   ]
  },
  {
   "cell_type": "code",
   "execution_count": null,
   "metadata": {},
   "outputs": [],
   "source": [
    "caribbean_island"
   ]
  },
  {
   "cell_type": "code",
   "execution_count": null,
   "metadata": {},
   "outputs": [],
   "source": [
    "# checking the number of missing value per observation\n",
    "\n",
    "caribbean_island['mv_sum'] = caribbean_island['m_GNI per capita (US$)'] + \\\n",
    "                             caribbean_island['m_CO2 Emissions'] + \\\n",
    "                             caribbean_island['m_Improved Water Source'] + \\\n",
    "                             caribbean_island['m_Improved Sanitation Facilities']\n",
    "\n",
    "\n",
    "caribbean_island['mv_sum'].value_counts(normalize = True,\n",
    "                                        sort      = True,\n",
    "                                        ascending = True)"
   ]
  },
  {
   "cell_type": "markdown",
   "metadata": {},
   "source": [
    "## Imputting Missing Value and Outlier Strategy"
   ]
  },
  {
   "cell_type": "markdown",
   "metadata": {},
   "source": [
    "### Imputting Missing Value for GNI per capita"
   ]
  },
  {
   "cell_type": "code",
   "execution_count": null,
   "metadata": {},
   "outputs": [],
   "source": [
    "# Imputting the value from external research for missing value in GNI per capita\n",
    "\n",
    "caribbean_island.at[0 , \"GNI per capita (US$)\" ] = 22370   # data of 2010, the latest population census\n",
    "caribbean_island.at[46 , \"GNI per capita (US$)\"] = 45730   # data of 2016, the latest trade data\n",
    "caribbean_island.at[186, \"GNI per capita (US$)\"] = 22600   # data of 2014, the latest cencus\n",
    "caribbean_island"
   ]
  },
  {
   "cell_type": "code",
   "execution_count": null,
   "metadata": {},
   "outputs": [],
   "source": [
    "# histogram for GNI per capita (US$) using mean and median line\n",
    "\n",
    "sns.distplot(a     = caribbean_island['GNI per capita (US$)'],\n",
    "             bins  = 'fd',\n",
    "             hist  = True,\n",
    "             kde   = False,\n",
    "             rug   = False,\n",
    "             color = 'blue')\n",
    "\n",
    "\n",
    "# titles and labels\n",
    "plt.title(label   = \"Distribution of GNI per capita (US$)\")\n",
    "plt.xlabel(xlabel = 'GNI per capita (US$)')\n",
    "plt.ylabel(ylabel = 'Frequency')\n",
    "\n",
    "\n",
    "# add vertical lines to the code\n",
    "plt.axvline(x     = caribbean_island['GNI per capita (US$)'].mean(),\n",
    "            color = 'red')\n",
    "plt.axvline(x     = caribbean_island['GNI per capita (US$)'].median(),\n",
    "            color = 'black')\n",
    "\n",
    "# adds a legend\n",
    "plt.legend(labels =  ['mean', 'median'])\n",
    "\n",
    "\n",
    "# compile and display the plot so that it is formatted as expected\n",
    "plt.tight_layout()\n",
    "plt.show()\n"
   ]
  },
  {
   "cell_type": "code",
   "execution_count": null,
   "metadata": {},
   "outputs": [],
   "source": [
    "# using mean value to filling missing value for GNI per capita (US$)\n",
    "# the distribution is skewed to right, however the mean and median is in the same place\n",
    "\n",
    "GNI_mean = round(caribbean_island['GNI per capita (US$)'].mean(), ndigits=2)\n",
    "\n",
    "caribbean_island['GNI per capita (US$)'].fillna(value = GNI_mean, inplace = True)\n",
    "\n",
    "# checking to make sure NAs are filled in\n",
    "print(caribbean_island['GNI per capita (US$)'].isnull().any())"
   ]
  },
  {
   "cell_type": "code",
   "execution_count": null,
   "metadata": {},
   "outputs": [],
   "source": [
    "## Looking at the distribution of GNI per capita using the imputted external data\n",
    "\n",
    "# histogram for GNI per capita\n",
    "sns.distplot(a     = caribbean_island['GNI per capita (US$)'],\n",
    "             bins  = 'fd',\n",
    "             hist  = True,\n",
    "             kde   = False,\n",
    "             rug   = False,\n",
    "             color = 'navy')\n",
    "\n",
    "plt.title(label    = \"Distribution of GNI per capita (US$)\")  # a title\n",
    "plt.xlabel(xlabel  = 'GNI per capita (US$)')                  # x-label\n",
    "plt.ylabel(ylabel  = 'Frequency')                             # y-label\n",
    "\n",
    "# compile and display the plot so that it is formatted as expected\n",
    "plt.tight_layout()\n",
    "plt.show()"
   ]
  },
  {
   "cell_type": "markdown",
   "metadata": {},
   "source": [
    "### Detecting Outliers for GNI per capita (US$)"
   ]
  },
  {
   "cell_type": "code",
   "execution_count": null,
   "metadata": {},
   "outputs": [],
   "source": [
    "# Box Plot to see the outliers\n",
    "\n",
    "# setting figure size\n",
    "fig, ax = plt.subplots(figsize = (10,5))\n",
    "\n",
    "# developing a boxplot for GNI per capita (US$)\n",
    "sns.boxplot(x      = 'GNI per capita (US$)',\n",
    "            y      = None,\n",
    "            hue    = None,\n",
    "            orient = 'h',\n",
    "            data   = caribbean_island)\n",
    "\n",
    "# adding a line to signify an outlier threshold\n",
    "plt.axvline(x         = 25000,  \n",
    "            color     = 'red',\n",
    "            linestyle = '--')\n",
    "\n",
    "# formatting and displaying the plot\n",
    "plt.title(label = 'Boxplot GNI per capita (US$)')\n",
    "plt.xlabel(xlabel = 'GNI per capita (US$)')\n",
    "plt.show()"
   ]
  },
  {
   "cell_type": "markdown",
   "metadata": {},
   "source": [
    "### Imputting Missing Value for CO2 Emissions"
   ]
  },
  {
   "cell_type": "code",
   "execution_count": null,
   "metadata": {},
   "outputs": [],
   "source": [
    "# histogram for CO2 Emissions using mean and median line\n",
    "\n",
    "sns.distplot(a     = caribbean_island['CO2 Emissions'],\n",
    "             bins  = 'fd',\n",
    "             hist  = True,\n",
    "             kde   = False,\n",
    "             rug   = False,\n",
    "             color = 'blue')\n",
    "\n",
    "\n",
    "# titles and labels\n",
    "plt.title(label   = \"Distribution of CO2 Emissions\")\n",
    "plt.xlabel(xlabel = 'CO2 Emissions')\n",
    "plt.ylabel(ylabel = 'Frequency')\n",
    "\n",
    "\n",
    "# add vertical lines to the code\n",
    "plt.axvline(x     = caribbean_island['CO2 Emissions'].mean(),\n",
    "            color = 'red')\n",
    "plt.axvline(x     = caribbean_island['CO2 Emissions'].median(),\n",
    "            color = 'blue')\n",
    "\n",
    "# adds a legend\n",
    "plt.legend(labels =  ['mean', 'median'])\n",
    "\n",
    "\n",
    "# compile and display the plot so that it is formatted as expected\n",
    "plt.tight_layout()\n",
    "plt.show()\n"
   ]
  },
  {
   "cell_type": "code",
   "execution_count": null,
   "metadata": {},
   "outputs": [],
   "source": [
    "# using median value to filling missing value for CO2 Emissions\n",
    "# the distribution is skewed to right, thus we want to use median value to fill missing values\n",
    "\n",
    "CO2_median = round(caribbean_island['CO2 Emissions'].median(), ndigits=2)\n",
    "\n",
    "caribbean_island['CO2 Emissions'].fillna(value = CO2_median, inplace = True)\n",
    "\n",
    "# checking to make sure NAs are filled in\n",
    "print(caribbean_island['CO2 Emissions'].isnull().any())"
   ]
  },
  {
   "cell_type": "code",
   "execution_count": null,
   "metadata": {},
   "outputs": [],
   "source": [
    "## Looking at the distribution of CO2 Emissions\n",
    "# histogram for CO2 Emissions\n",
    "sns.distplot(a     = caribbean_island['CO2 Emissions'],\n",
    "             bins  = 'fd',\n",
    "             hist  = True,\n",
    "             kde   = False,\n",
    "             rug   = False,\n",
    "             color = 'navy')\n",
    "\n",
    "\n",
    "plt.title(label    = \"Distribution of CO2 Emissions\")  # a histogram title\n",
    "plt.xlabel(xlabel  = 'CO2 Emissions')                  # x-label\n",
    "plt.ylabel(ylabel  = 'Frequency')                      # y-label\n",
    "\n",
    "\n",
    "# compile and display the plot so that it is formatted as expected\n",
    "plt.tight_layout()\n",
    "plt.show()"
   ]
  },
  {
   "cell_type": "markdown",
   "metadata": {},
   "source": [
    "### Detecting Outliers for CO2 Emissions"
   ]
  },
  {
   "cell_type": "code",
   "execution_count": null,
   "metadata": {},
   "outputs": [],
   "source": [
    "# Box Plot to see the outliers for CO2 Emissions\n",
    "\n",
    "# setting figure size\n",
    "fig, ax = plt.subplots(figsize = (10,5))\n",
    "\n",
    "# developing a boxplot for CO2 Emissions\n",
    "sns.boxplot(x      = 'CO2 Emissions',    # x-variable\n",
    "            y      = None,               # optional y-variable\n",
    "            hue    = None,               # optional categorical feature\n",
    "            orient = 'h',                # horizontal or vertical\n",
    "            data   = caribbean_island)   # DataFrame where features exist\n",
    "\n",
    "# adding a line to signify an outlier threshold\n",
    "plt.axvline(x         = 26,  \n",
    "            color     = 'red',\n",
    "            linestyle = '--')\n",
    "\n",
    "plt.axvline(x         = 33.5,\n",
    "            color     = \"red\",\n",
    "            linestyle = '--')\n",
    "\n",
    "# formatting and displaying the plot\n",
    "plt.title(label   = 'Boxplot: CO2 Emissions')\n",
    "plt.xlabel(xlabel = 'CO2 Emissions')\n",
    "plt.show()"
   ]
  },
  {
   "cell_type": "markdown",
   "metadata": {},
   "source": [
    "### Imputting Missing Value for Improved Water Source"
   ]
  },
  {
   "cell_type": "code",
   "execution_count": null,
   "metadata": {},
   "outputs": [],
   "source": [
    "# Imputting the external value for missing value in Improved Water Source\n",
    "\n",
    "caribbean_island.at[51 , \"Improved Water Source\" ]  = 95.7  # data of 2015, % population access\n",
    "caribbean_island.at[156 , \"Improved Water Source\" ] = 97.0  # data of 2015, % population access\n",
    "caribbean_island.at[186 , \"Improved Water Source\" ] = 94.3  # data of 2015, % population access\n",
    "caribbean_island"
   ]
  },
  {
   "cell_type": "code",
   "execution_count": null,
   "metadata": {},
   "outputs": [],
   "source": [
    "## Looking at the distribution of Improved Water Source by dropping missing values\n",
    "\n",
    "# the following code makes the new DataFrame independent\n",
    "IWS_dropped = pd.DataFrame.copy(caribbean_island['Improved Water Source'])\n",
    "\n",
    "# using dropna() for df_dropped\n",
    "IWS_dropped = IWS_dropped.dropna().round(2)\n",
    "\n",
    "# checking to see if all missing values have been dropped\n",
    "print(IWS_dropped.isnull().sum(axis=0))"
   ]
  },
  {
   "cell_type": "code",
   "execution_count": null,
   "metadata": {},
   "outputs": [],
   "source": [
    "## Looking at the distribution of Improved Water Source using the imputted external data\n",
    "# histogram for Improved Water Source\n",
    "sns.distplot(a     = IWS_dropped,\n",
    "             bins  = 'fd',\n",
    "             hist  = True,\n",
    "             kde   = False,\n",
    "             rug   = False,\n",
    "             color = 'navy')\n",
    "\n",
    "\n",
    "plt.title(label    = \"Distribution of Improved Water Source\")  # a histogram title\n",
    "plt.xlabel(xlabel  = 'Improved Water Source')                  # x-label\n",
    "plt.ylabel(ylabel  = 'Frequency')                              # y-label\n",
    "\n",
    "\n",
    "# compile and display the plot so that it is formatted as expected\n",
    "plt.tight_layout()\n",
    "plt.show()"
   ]
  },
  {
   "cell_type": "markdown",
   "metadata": {},
   "source": [
    "### Detecting Outliers for Improved Water Source"
   ]
  },
  {
   "cell_type": "code",
   "execution_count": null,
   "metadata": {},
   "outputs": [],
   "source": [
    "# Box Plot to see the outliers for Improved Water Source\n",
    "\n",
    "# setting figure size\n",
    "fig, ax = plt.subplots(figsize = (10,5))\n",
    "\n",
    "# developing a boxplot for CO2 Emissions\n",
    "sns.boxplot(x      = 'Improved Water Source',    # x-variable\n",
    "            y      = None,                       # optional y-variable\n",
    "            hue    = None,                       # optional categorical feature\n",
    "            orient = 'h',                        # horizontal or vertical\n",
    "            data   = caribbean_island)           # DataFrame where features exist\n",
    "\n",
    "# adding a line to signify an outlier threshold\n",
    "plt.axvline(x         = 87,  \n",
    "            color     = 'red',\n",
    "            linestyle = '--')\n",
    "\n",
    "plt.axvline(x         = 61,\n",
    "            color     = \"red\",\n",
    "            linestyle = '--')\n",
    "\n",
    "# formatting and displaying the plot\n",
    "plt.title(label   = 'Boxplot: Improved Water Source')\n",
    "plt.xlabel(xlabel = 'Improved Water Source')\n",
    "plt.show()"
   ]
  },
  {
   "cell_type": "markdown",
   "metadata": {},
   "source": [
    "### Imputting Missing Value for Improved Sanitation Facilities"
   ]
  },
  {
   "cell_type": "code",
   "execution_count": null,
   "metadata": {},
   "outputs": [],
   "source": [
    "# Imputting the external value for missing value in Improved Sanitation Facilities\n",
    "\n",
    "caribbean_island.at[51 , \"Improved Sanitation Facilities\" ] = 77.89  # data of 2011, no more update\n",
    "caribbean_island.at[103 , \"Improved Sanitation Facilities\"] = 91.6   # data of 2011, no more update\n",
    "caribbean_island.at[186 , \"Improved Sanitation Facilities\"] = 87.23  # data of 2010-2017\n",
    "caribbean_island.at[204 , \"Improved Sanitation Facilities\"] = 85.3   # data of 2010-2017\n",
    "caribbean_island"
   ]
  },
  {
   "cell_type": "code",
   "execution_count": null,
   "metadata": {},
   "outputs": [],
   "source": [
    "## Looking at the distribution of Improved Sanitation Facilities using the imputted external data\n",
    "\n",
    "# histogram for Improved Sanitation Facilities\n",
    "sns.distplot(a     = caribbean_island['Improved Sanitation Facilities'],\n",
    "             bins  = 'fd',\n",
    "             hist  = True,\n",
    "             kde   = False,\n",
    "             rug   = False,\n",
    "             color = 'navy')\n",
    "\n",
    "\n",
    "plt.title(label    = \"Distribution of Improved Sanitation Facilities\")  # a histogram title\n",
    "plt.xlabel(xlabel  = 'Improved Sanitation Facilities')                  # x-label\n",
    "plt.ylabel(ylabel  = 'Frequency')                                       # y-label\n",
    "\n",
    "\n",
    "# compile and display the plot so that it is formatted as expected\n",
    "plt.tight_layout()\n",
    "plt.show()"
   ]
  },
  {
   "cell_type": "markdown",
   "metadata": {},
   "source": [
    "### Detecting Outliers for Improved Sanitation Facilities"
   ]
  },
  {
   "cell_type": "code",
   "execution_count": null,
   "metadata": {},
   "outputs": [],
   "source": [
    "# Box Plot to see the outliers for Improved Sanitation Facilities\n",
    "fig, ax = plt.subplots(figsize = (8, 5))\n",
    "\n",
    "\n",
    "# developing a boxplot for carat\n",
    "sns.boxplot(x      = caribbean_island['Improved Sanitation Facilities'],  # x-variable\n",
    "            y      = None,                                         # optional y-variable\n",
    "            hue    = None,                                         # optional categorical feature\n",
    "            orient = 'h',                                          # horizontal or vertical\n",
    "            data   = caribbean_island)                             # DataFrame where features exist\n",
    "\n",
    "# adding a line to signify an outlier threshold\n",
    "plt.axvline(x         = 26,\n",
    "            color     = \"red\",\n",
    "            linestyle = '--')\n",
    "\n",
    "# formatting and displaying the plot\n",
    "plt.title(label = 'Improved sanitation Facilities')\n",
    "plt.xlabel(xlabel = 'Rate')\n",
    "plt.show()"
   ]
  },
  {
   "cell_type": "markdown",
   "metadata": {},
   "source": [
    "## Correlation Between Variables in The Caribbean Island Region"
   ]
  },
  {
   "cell_type": "code",
   "execution_count": null,
   "metadata": {},
   "outputs": [],
   "source": [
    "# converting correlation matrix into a DataFrame\n",
    "caribbean_island_corr = caribbean_island.corr(method = 'pearson').round(decimals = 2)\n",
    "\n",
    "# specifying plot size\n",
    "fig, ax = plt.subplots(figsize = (12,12))\n",
    "\n",
    "# instantiating a heatmap\n",
    "sns.heatmap (data       = caribbean_island_corr,   # the correlation matrix\n",
    "             cmap       = 'Blues',\n",
    "             square     = True,\n",
    "             annot      = True,\n",
    "             linecolor  = 'black',\n",
    "             linewidths = 0.5)\n",
    "\n",
    "# title \n",
    "plt.title(\"\"\"\n",
    "Linear Correlation Heatmap for The Caribbean Island Region\n",
    "\"\"\")\n",
    "\n",
    "# displaying and saving the plot\n",
    "plt.savefig('./Linear Correlation Heatmap.png')\n",
    "plt.show()"
   ]
  },
  {
   "cell_type": "markdown",
   "metadata": {},
   "source": [
    "## Selecting A Country that Represents The Caribbean Island Region"
   ]
  },
  {
   "cell_type": "code",
   "execution_count": null,
   "metadata": {},
   "outputs": [],
   "source": [
    "caribbean_island.describe().round(decimals = 2)"
   ]
  },
  {
   "cell_type": "markdown",
   "metadata": {},
   "source": [
    "The average value for the Caribbean Island region:\n",
    "\n",
    "Population = 2108296\n",
    "GNI per capita (US$) = 13808.24\n",
    "CO2 Emissions = 6.79\n",
    "Improved Water Source = 93.72\n",
    "Improved Sanitation Facilities = 87.27"
   ]
  },
  {
   "cell_type": "code",
   "execution_count": null,
   "metadata": {},
   "outputs": [],
   "source": [
    "# Subsetting to select the most representative country of the region\n",
    "\n",
    "country = caribbean_island.loc[ : , 'Country']\\\n",
    "         [caribbean_island.loc[ : , 'Population'] >= 2108296]\\\n",
    "         [caribbean_island.loc[ : , 'GNI per capita (US$)'] >= 13808.24]\\\n",
    "         [caribbean_island.loc[ : , 'Improved Water Source'] >= 93.72]\\\n",
    "         [caribbean_island.loc[ : , 'Improved Sanitation Facilities'] > 87]\n",
    "country"
   ]
  },
  {
   "cell_type": "markdown",
   "metadata": {},
   "source": [
    "# References\n",
    "\n",
    "Business Insider. (2014). The 25 Best Caribbean Island. Retrieved from https://www.businessinsider.com/best-caribbean-islands-2014-12?op=1\n",
    "\n",
    "Best Citizenships. (n.d). Top 10 Richest Caribbean Countries. Retrieved from https://best-citizenships.com/2019/05/29/10-richest-caribbean-countries/#:~:text=Cayman%20islands%20is%20a%20british,of%20100%20nationalities%20and%20culture.\n",
    "\n",
    "Borgen Project. (n.d). 10 Facts About Sanitation in Haiti. Retrieved from https://borgenproject.org/10-facts-about-sanitation-in-haiti/#:~:text=Only%2024%25%20of%20Haiti's%20population,water%2Dborne%20illnesses%20like%20cholera.\n",
    "\n",
    "Caribbean & Co. (2018). 10 Facts About The Caribbean Region. Retrieved from https://www.caribbeanandco.com/facts-about-the-caribbean-region/\n",
    "\n",
    "Caribbean Journal. (n.d). Tourism and the Caribbean Economy. Retrieved from https://www.caribjournal.com/2013/09/30/tourism-and-the-caribbean-economy/\n",
    "\n",
    "Caribbean Journal. (n.d). The Caribbean Water Problem. Retrieved from https://www.caribjournal.com/2016/06/30/caribbean-water-problem/\n",
    "\n",
    "Caribbean Journal. (n.d.). 12 Challenges Facing Caribbean Small Island Developing States. Retrieved from https://www.caribjournal.com/2015/03/08/12-challenges-facing-caribbean-small-island-developing-states/\n",
    "\n",
    "Central Intelligence Agency. (n.d.). The World Factbook. Retrieved from https://www.cia.gov/library/publications/the-world-factbook/fields/361.html\n",
    "\n",
    "Critical Ecosystem Partnership Fund. 2018. Caribbean Islands - Threats. Retrieved from https://www.cepf.net/our-work/biodiversity-hotspots/caribbean-islands/threats\n",
    "\n",
    "Forbes. (2019). In Search of A Solution for Water Scarcity in The Caribbean. Retrieved from https://www.forbes.com/sites/daphneewingchow/2019/02/12/in-search-of-a-solution-for-water-scarcity-in-the-caribbean/?sh=65fe7e151511\n",
    "\n",
    "Investopedia. (2020). Gross National Income. Retrieved from https://www.investopedia.com/terms/g/gross-national-income-gni.asp#:~:text=GNI%20is%20the%20total%20amount,it%20receives%20from%20overseas%20sources.\n",
    "\n",
    "Investopedia. (2020). The Top 4 Economies of the Caribbean. Retrieved from https://www.investopedia.com/articles/investing/011916/profits-paradise-top-4-economies-caribbean.asp\n",
    "\n",
    "The World Bank. (2015). Challenges to Engendering Growth in Small Island Developing States. Retrieved from https://www.worldbank.org/en/news/speech/2015/06/16/caribbean-challenges-engendering-growth-small-island-developing-states\n",
    "\n",
    "Travelrows. (n.d.). All Caribbean Countries, Islands, and Territories - Lists, Flags, Maps. Retrieved from https://travelrows.com/all-the-caribbean-countries-with-flags-islands-and-territories/\n",
    "\n",
    "Welcome To Puerto Rico. (n.d.). Puerto Rico Geography. Retrieved from https://welcome.topuertorico.org/geogra.shtml\n",
    "\n",
    "WorldAtlas. (2018). The Major Industries in Trinidad and Tobago. Retrieved from https://www.worldatlas.com/articles/the-major-industries-in-trinidad-and-tobago.html\n",
    "\n",
    "Worldometer. (n.d.). Aruba Oil. Retrieved from https://www.worldometers.info/oil/aruba-oil/\n",
    "\n",
    "World Vision. (n.d). 2010 Haiti Earthquake: Facts, FAQs, and How to Help. Retrieved from https://www.worldvision.org/disaster-relief-news-stories/2010-haiti-earthquake-facts#fast-facts"
   ]
  }
 ],
 "metadata": {
  "kernelspec": {
   "display_name": "Python 3",
   "language": "python",
   "name": "python3"
  },
  "language_info": {
   "codemirror_mode": {
    "name": "ipython",
    "version": 3
   },
   "file_extension": ".py",
   "mimetype": "text/x-python",
   "name": "python",
   "nbconvert_exporter": "python",
   "pygments_lexer": "ipython3",
   "version": "3.8.3"
  },
  "toc": {
   "base_numbering": 1,
   "nav_menu": {},
   "number_sections": true,
   "sideBar": true,
   "skip_h1_title": false,
   "title_cell": "Table of Contents",
   "title_sidebar": "Contents",
   "toc_cell": false,
   "toc_position": {
    "height": "calc(100% - 180px)",
    "left": "10px",
    "top": "150px",
    "width": "309.815px"
   },
   "toc_section_display": true,
   "toc_window_display": true
  },
  "varInspector": {
   "cols": {
    "lenName": 16,
    "lenType": 16,
    "lenVar": 40
   },
   "kernels_config": {
    "python": {
     "delete_cmd_postfix": "",
     "delete_cmd_prefix": "del ",
     "library": "var_list.py",
     "varRefreshCmd": "print(var_dic_list())"
    },
    "r": {
     "delete_cmd_postfix": ") ",
     "delete_cmd_prefix": "rm(",
     "library": "var_list.r",
     "varRefreshCmd": "cat(var_dic_list()) "
    }
   },
   "types_to_exclude": [
    "module",
    "function",
    "builtin_function_or_method",
    "instance",
    "_Feature"
   ],
   "window_display": false
  }
 },
 "nbformat": 4,
 "nbformat_minor": 4
}
